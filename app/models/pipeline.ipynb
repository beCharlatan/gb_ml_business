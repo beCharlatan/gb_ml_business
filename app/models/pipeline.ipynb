{
 "cells": [
  {
   "cell_type": "code",
   "execution_count": 1,
   "metadata": {
    "pycharm": {
     "name": "#%%\n"
    }
   },
   "outputs": [],
   "source": [
    "import pandas as pd\n",
    "from sklearn.base import BaseEstimator, TransformerMixin\n",
    "from sklearn.pipeline import Pipeline\n",
    "from sklearn.compose import ColumnTransformer\n",
    "from sklearn.model_selection import train_test_split\n",
    "from sklearn.preprocessing import StandardScaler, OneHotEncoder\n",
    "from category_encoders import TargetEncoder, OrdinalEncoder, BinaryEncoder\n",
    "from xgboost import XGBRegressor\n",
    "from sklearn.metrics import r2_score\n",
    "import dill"
   ]
  },
  {
   "cell_type": "code",
   "execution_count": 2,
   "metadata": {
    "pycharm": {
     "name": "#%%\n"
    }
   },
   "outputs": [],
   "source": [
    "def get_data(path):\n",
    "    return pd.read_csv(path)\n",
    "\n",
    "def clear_data(data):\n",
    "    data = data.drop_duplicates(keep=False)\n",
    "    q1 = data.quantile(0.1)\n",
    "    q3 = data.quantile(0.9)\n",
    "    iqr = q3-q1\n",
    "    data = data[~(((data>q3+3*iqr) | (data<q1-3*iqr)).any(axis=1))]\n",
    "    return data\n",
    "\n",
    "def data_split(data, target_col_name):\n",
    "    y = data[target_col_name]\n",
    "    X = data.drop(target_col_name, axis=1)\n",
    "    return train_test_split(X, y, test_size=.3, random_state=10, shuffle=True)"
   ]
  },
  {
   "cell_type": "code",
   "execution_count": 3,
   "metadata": {
    "pycharm": {
     "name": "#%%\n"
    }
   },
   "outputs": [],
   "source": [
    "def calc_score(y, y_pred):\n",
    "    return r2_score(y , y_pred)"
   ]
  },
  {
   "cell_type": "code",
   "execution_count": 4,
   "metadata": {
    "pycharm": {
     "name": "#%%\n"
    }
   },
   "outputs": [],
   "source": [
    "class TypeConverter(BaseEstimator, TransformerMixin):\n",
    "    def __init__(self, key, to_type):\n",
    "        self.key = key\n",
    "        self.to_type = to_type\n",
    "\n",
    "    def fit(self, X, y=None):\n",
    "        return self\n",
    "\n",
    "    def transform(self, X):\n",
    "        X[self.key] = X[self.key].apply(self.to_type)\n",
    "        return X\n",
    "\n",
    "class StringReplace(BaseEstimator, TransformerMixin):\n",
    "    def __init__(self, key, target, replacer):\n",
    "        self.key = key\n",
    "        self.target = target\n",
    "        self.replacer = replacer\n",
    "\n",
    "    def fit(self, X, y=None):\n",
    "        return self\n",
    "\n",
    "    def transform(self, X):\n",
    "        X[self.key] = X[self.key].str.replace(self.target, self.replacer)\n",
    "        return X\n",
    "\n",
    "class GenderateTurboFeature(BaseEstimator, TransformerMixin):\n",
    "    def __init__(self):\n",
    "        pass\n",
    "\n",
    "    def fit(self, X, y=None):\n",
    "        return self\n",
    "\n",
    "    def transform(self, X):\n",
    "        X['Turbo'] = X['Engine volume'].str.strip().apply(lambda x : 1 if len(x) > 3 else 0)\n",
    "        return X"
   ]
  },
  {
   "cell_type": "code",
   "execution_count": 5,
   "metadata": {
    "pycharm": {
     "name": "#%%\n"
    }
   },
   "outputs": [],
   "source": [
    "num_features = ['Prod. year', 'Airbags']\n",
    "one_hot_encoded_features = ['Fuel type', 'Gear box type', 'Drive wheels']\n",
    "ordinal_encoded_features = ['Manufacturer', 'Color']\n",
    "target_encoded_features = ['Model', 'Category']\n",
    "binary_encoded_features = ['Wheel', 'Leather interior']\n",
    "\n",
    "str_scaler_step = ('std_scaler', StandardScaler())\n",
    "\n",
    "levy_transformer = Pipeline([\n",
    "    ('replacer', StringReplace(key='Levy', target='-', replacer='0')),\n",
    "    ('converter', TypeConverter(key='Levy', to_type=int)),\n",
    "    str_scaler_step\n",
    "])\n",
    "\n",
    "mileage_transformer = Pipeline([\n",
    "    ('replacer', StringReplace(key='Mileage', target='km', replacer='')),\n",
    "    ('converter', TypeConverter(key='Mileage', to_type=int)),\n",
    "    str_scaler_step\n",
    "])\n",
    "\n",
    "doors_transformer = Pipeline([\n",
    "    ('replacer_1', StringReplace(key='Doors', target='04-May', replacer='4-5')),\n",
    "    ('replacer_2', StringReplace(key='Doors', target='02-Mar', replacer='2-3')),\n",
    "    ('encoder', OneHotEncoder())\n",
    "])\n",
    "\n",
    "engine_volume_transformer = Pipeline([\n",
    "    ('genderate Turbo feature', GenderateTurboFeature()),\n",
    "    ('replacer', StringReplace(key='Engine volume', target=r\"([a-z,' ',A-Z])\", replacer='')),\n",
    "    ('converter', TypeConverter(key='Engine volume', to_type=float)),\n",
    "    str_scaler_step\n",
    "])\n",
    "\n",
    "num_features_transform = Pipeline([str_scaler_step])"
   ]
  },
  {
   "cell_type": "code",
   "execution_count": 6,
   "metadata": {
    "pycharm": {
     "name": "#%%\n"
    }
   },
   "outputs": [
    {
     "name": "stderr",
     "output_type": "stream",
     "text": [
      "C:\\Users\\artem\\Desktop\\prog\\python\\ml_business\\gb_ml_business\\venv\\lib\\site-packages\\category_encoders\\target_encoder.py:92: FutureWarning: Default parameter min_samples_leaf will change in version 2.6.See https://github.com/scikit-learn-contrib/category_encoders/issues/327\n",
      "  warnings.warn(\"Default parameter min_samples_leaf will change in version 2.6.\"\n",
      "C:\\Users\\artem\\Desktop\\prog\\python\\ml_business\\gb_ml_business\\venv\\lib\\site-packages\\category_encoders\\target_encoder.py:97: FutureWarning: Default parameter smoothing will change in version 2.6.See https://github.com/scikit-learn-contrib/category_encoders/issues/327\n",
      "  warnings.warn(\"Default parameter smoothing will change in version 2.6.\"\n"
     ]
    }
   ],
   "source": [
    "preprocessor = ColumnTransformer(transformers=[\n",
    "    ('Levy', levy_transformer, ['Levy']),\n",
    "    ('Mileage', mileage_transformer, ['Mileage']),\n",
    "    ('Doors', doors_transformer, ['Doors']),\n",
    "    ('Engine volume', engine_volume_transformer, ['Engine volume']),\n",
    "    ('rest numeric features', num_features_transform, num_features),\n",
    "    ('binary encoder', BinaryEncoder(), binary_encoded_features),\n",
    "    ('ordinal encoder', OrdinalEncoder(), ordinal_encoded_features),\n",
    "    ('one hot encoder', OneHotEncoder(), one_hot_encoded_features),\n",
    "    ('target encoder', TargetEncoder(), target_encoded_features),\n",
    "])"
   ]
  },
  {
   "cell_type": "code",
   "execution_count": 7,
   "metadata": {
    "pycharm": {
     "name": "#%%\n"
    }
   },
   "outputs": [],
   "source": [
    "model_params = {\n",
    "    'random_state': 10,\n",
    "    'booster': 'gbtree',\n",
    "    'learning_rate': .1,\n",
    "    'max_depth': 6,\n",
    "    'n_estimators': 500\n",
    "}\n",
    "model = XGBRegressor(**model_params)\n",
    "\n",
    "pipeline = Pipeline([\n",
    "    ('preprocessing', preprocessor),\n",
    "    ('model', model)\n",
    "])"
   ]
  },
  {
   "cell_type": "code",
   "execution_count": 8,
   "metadata": {
    "pycharm": {
     "name": "#%%\n"
    }
   },
   "outputs": [
    {
     "name": "stderr",
     "output_type": "stream",
     "text": [
      "C:\\Users\\artem\\AppData\\Local\\Temp\\ipykernel_6944\\3495376832.py:9: FutureWarning: Automatic reindexing on DataFrame vs Series comparisons is deprecated and will raise ValueError in a future version. Do `left, right = left.align(right, axis=1, copy=False)` before e.g. `left == right`\n",
      "  data = data[~(((data>q3+3*iqr) | (data<q1-3*iqr)).any(axis=1))]\n"
     ]
    }
   ],
   "source": [
    "df = get_data('car_price_prediction.csv')\n",
    "cleared_df = clear_data(df)\n",
    "\n",
    "X_train, X_test, y_train, y_test = data_split(cleared_df, 'Price')"
   ]
  },
  {
   "cell_type": "code",
   "execution_count": 9,
   "metadata": {
    "pycharm": {
     "name": "#%%\n"
    }
   },
   "outputs": [
    {
     "name": "stderr",
     "output_type": "stream",
     "text": [
      "C:\\Users\\artem\\AppData\\Local\\Temp\\ipykernel_6944\\3084886401.py:23: FutureWarning: The default value of regex will change from True to False in a future version.\n",
      "  X[self.key] = X[self.key].str.replace(self.target, self.replacer)\n",
      "C:\\Users\\artem\\Desktop\\prog\\python\\ml_business\\gb_ml_business\\venv\\lib\\site-packages\\category_encoders\\target_encoder.py:92: FutureWarning: Default parameter min_samples_leaf will change in version 2.6.See https://github.com/scikit-learn-contrib/category_encoders/issues/327\n",
      "  warnings.warn(\"Default parameter min_samples_leaf will change in version 2.6.\"\n",
      "C:\\Users\\artem\\Desktop\\prog\\python\\ml_business\\gb_ml_business\\venv\\lib\\site-packages\\category_encoders\\target_encoder.py:97: FutureWarning: Default parameter smoothing will change in version 2.6.See https://github.com/scikit-learn-contrib/category_encoders/issues/327\n",
      "  warnings.warn(\"Default parameter smoothing will change in version 2.6.\"\n"
     ]
    },
    {
     "data": {
      "text/plain": "Pipeline(steps=[('preprocessing',\n                 ColumnTransformer(transformers=[('Levy',\n                                                  Pipeline(steps=[('replacer',\n                                                                   StringReplace(key='Levy',\n                                                                                 replacer='0',\n                                                                                 target='-')),\n                                                                  ('converter',\n                                                                   TypeConverter(key='Levy',\n                                                                                 to_type=<class 'int'>)),\n                                                                  ('std_scaler',\n                                                                   StandardScaler())]),\n                                                  ['Levy']),\n                                                 ('Mileage',\n                                                  Pipeline(steps=[('replacer',\n                                                                   StringReplace(key='Mileage',\n                                                                                 replacer='',\n                                                                                 target='km')),...\n                              gamma=0, gpu_id=-1, grow_policy='depthwise',\n                              importance_type=None, interaction_constraints='',\n                              learning_rate=0.1, max_bin=256,\n                              max_cat_to_onehot=4, max_delta_step=0,\n                              max_depth=6, max_leaves=0, min_child_weight=1,\n                              missing=nan, monotone_constraints='()',\n                              n_estimators=500, n_jobs=0, num_parallel_tree=1,\n                              predictor='auto', random_state=10, reg_alpha=0,\n                              reg_lambda=1, ...))])",
      "text/html": "<style>#sk-container-id-1 {color: black;background-color: white;}#sk-container-id-1 pre{padding: 0;}#sk-container-id-1 div.sk-toggleable {background-color: white;}#sk-container-id-1 label.sk-toggleable__label {cursor: pointer;display: block;width: 100%;margin-bottom: 0;padding: 0.3em;box-sizing: border-box;text-align: center;}#sk-container-id-1 label.sk-toggleable__label-arrow:before {content: \"▸\";float: left;margin-right: 0.25em;color: #696969;}#sk-container-id-1 label.sk-toggleable__label-arrow:hover:before {color: black;}#sk-container-id-1 div.sk-estimator:hover label.sk-toggleable__label-arrow:before {color: black;}#sk-container-id-1 div.sk-toggleable__content {max-height: 0;max-width: 0;overflow: hidden;text-align: left;background-color: #f0f8ff;}#sk-container-id-1 div.sk-toggleable__content pre {margin: 0.2em;color: black;border-radius: 0.25em;background-color: #f0f8ff;}#sk-container-id-1 input.sk-toggleable__control:checked~div.sk-toggleable__content {max-height: 200px;max-width: 100%;overflow: auto;}#sk-container-id-1 input.sk-toggleable__control:checked~label.sk-toggleable__label-arrow:before {content: \"▾\";}#sk-container-id-1 div.sk-estimator input.sk-toggleable__control:checked~label.sk-toggleable__label {background-color: #d4ebff;}#sk-container-id-1 div.sk-label input.sk-toggleable__control:checked~label.sk-toggleable__label {background-color: #d4ebff;}#sk-container-id-1 input.sk-hidden--visually {border: 0;clip: rect(1px 1px 1px 1px);clip: rect(1px, 1px, 1px, 1px);height: 1px;margin: -1px;overflow: hidden;padding: 0;position: absolute;width: 1px;}#sk-container-id-1 div.sk-estimator {font-family: monospace;background-color: #f0f8ff;border: 1px dotted black;border-radius: 0.25em;box-sizing: border-box;margin-bottom: 0.5em;}#sk-container-id-1 div.sk-estimator:hover {background-color: #d4ebff;}#sk-container-id-1 div.sk-parallel-item::after {content: \"\";width: 100%;border-bottom: 1px solid gray;flex-grow: 1;}#sk-container-id-1 div.sk-label:hover label.sk-toggleable__label {background-color: #d4ebff;}#sk-container-id-1 div.sk-serial::before {content: \"\";position: absolute;border-left: 1px solid gray;box-sizing: border-box;top: 0;bottom: 0;left: 50%;z-index: 0;}#sk-container-id-1 div.sk-serial {display: flex;flex-direction: column;align-items: center;background-color: white;padding-right: 0.2em;padding-left: 0.2em;position: relative;}#sk-container-id-1 div.sk-item {position: relative;z-index: 1;}#sk-container-id-1 div.sk-parallel {display: flex;align-items: stretch;justify-content: center;background-color: white;position: relative;}#sk-container-id-1 div.sk-item::before, #sk-container-id-1 div.sk-parallel-item::before {content: \"\";position: absolute;border-left: 1px solid gray;box-sizing: border-box;top: 0;bottom: 0;left: 50%;z-index: -1;}#sk-container-id-1 div.sk-parallel-item {display: flex;flex-direction: column;z-index: 1;position: relative;background-color: white;}#sk-container-id-1 div.sk-parallel-item:first-child::after {align-self: flex-end;width: 50%;}#sk-container-id-1 div.sk-parallel-item:last-child::after {align-self: flex-start;width: 50%;}#sk-container-id-1 div.sk-parallel-item:only-child::after {width: 0;}#sk-container-id-1 div.sk-dashed-wrapped {border: 1px dashed gray;margin: 0 0.4em 0.5em 0.4em;box-sizing: border-box;padding-bottom: 0.4em;background-color: white;}#sk-container-id-1 div.sk-label label {font-family: monospace;font-weight: bold;display: inline-block;line-height: 1.2em;}#sk-container-id-1 div.sk-label-container {text-align: center;}#sk-container-id-1 div.sk-container {/* jupyter's `normalize.less` sets `[hidden] { display: none; }` but bootstrap.min.css set `[hidden] { display: none !important; }` so we also need the `!important` here to be able to override the default hidden behavior on the sphinx rendered scikit-learn.org. See: https://github.com/scikit-learn/scikit-learn/issues/21755 */display: inline-block !important;position: relative;}#sk-container-id-1 div.sk-text-repr-fallback {display: none;}</style><div id=\"sk-container-id-1\" class=\"sk-top-container\"><div class=\"sk-text-repr-fallback\"><pre>Pipeline(steps=[(&#x27;preprocessing&#x27;,\n                 ColumnTransformer(transformers=[(&#x27;Levy&#x27;,\n                                                  Pipeline(steps=[(&#x27;replacer&#x27;,\n                                                                   StringReplace(key=&#x27;Levy&#x27;,\n                                                                                 replacer=&#x27;0&#x27;,\n                                                                                 target=&#x27;-&#x27;)),\n                                                                  (&#x27;converter&#x27;,\n                                                                   TypeConverter(key=&#x27;Levy&#x27;,\n                                                                                 to_type=&lt;class &#x27;int&#x27;&gt;)),\n                                                                  (&#x27;std_scaler&#x27;,\n                                                                   StandardScaler())]),\n                                                  [&#x27;Levy&#x27;]),\n                                                 (&#x27;Mileage&#x27;,\n                                                  Pipeline(steps=[(&#x27;replacer&#x27;,\n                                                                   StringReplace(key=&#x27;Mileage&#x27;,\n                                                                                 replacer=&#x27;&#x27;,\n                                                                                 target=&#x27;km&#x27;)),...\n                              gamma=0, gpu_id=-1, grow_policy=&#x27;depthwise&#x27;,\n                              importance_type=None, interaction_constraints=&#x27;&#x27;,\n                              learning_rate=0.1, max_bin=256,\n                              max_cat_to_onehot=4, max_delta_step=0,\n                              max_depth=6, max_leaves=0, min_child_weight=1,\n                              missing=nan, monotone_constraints=&#x27;()&#x27;,\n                              n_estimators=500, n_jobs=0, num_parallel_tree=1,\n                              predictor=&#x27;auto&#x27;, random_state=10, reg_alpha=0,\n                              reg_lambda=1, ...))])</pre><b>In a Jupyter environment, please rerun this cell to show the HTML representation or trust the notebook. <br />On GitHub, the HTML representation is unable to render, please try loading this page with nbviewer.org.</b></div><div class=\"sk-container\" hidden><div class=\"sk-item sk-dashed-wrapped\"><div class=\"sk-label-container\"><div class=\"sk-label sk-toggleable\"><input class=\"sk-toggleable__control sk-hidden--visually\" id=\"sk-estimator-id-1\" type=\"checkbox\" ><label for=\"sk-estimator-id-1\" class=\"sk-toggleable__label sk-toggleable__label-arrow\">Pipeline</label><div class=\"sk-toggleable__content\"><pre>Pipeline(steps=[(&#x27;preprocessing&#x27;,\n                 ColumnTransformer(transformers=[(&#x27;Levy&#x27;,\n                                                  Pipeline(steps=[(&#x27;replacer&#x27;,\n                                                                   StringReplace(key=&#x27;Levy&#x27;,\n                                                                                 replacer=&#x27;0&#x27;,\n                                                                                 target=&#x27;-&#x27;)),\n                                                                  (&#x27;converter&#x27;,\n                                                                   TypeConverter(key=&#x27;Levy&#x27;,\n                                                                                 to_type=&lt;class &#x27;int&#x27;&gt;)),\n                                                                  (&#x27;std_scaler&#x27;,\n                                                                   StandardScaler())]),\n                                                  [&#x27;Levy&#x27;]),\n                                                 (&#x27;Mileage&#x27;,\n                                                  Pipeline(steps=[(&#x27;replacer&#x27;,\n                                                                   StringReplace(key=&#x27;Mileage&#x27;,\n                                                                                 replacer=&#x27;&#x27;,\n                                                                                 target=&#x27;km&#x27;)),...\n                              gamma=0, gpu_id=-1, grow_policy=&#x27;depthwise&#x27;,\n                              importance_type=None, interaction_constraints=&#x27;&#x27;,\n                              learning_rate=0.1, max_bin=256,\n                              max_cat_to_onehot=4, max_delta_step=0,\n                              max_depth=6, max_leaves=0, min_child_weight=1,\n                              missing=nan, monotone_constraints=&#x27;()&#x27;,\n                              n_estimators=500, n_jobs=0, num_parallel_tree=1,\n                              predictor=&#x27;auto&#x27;, random_state=10, reg_alpha=0,\n                              reg_lambda=1, ...))])</pre></div></div></div><div class=\"sk-serial\"><div class=\"sk-item sk-dashed-wrapped\"><div class=\"sk-label-container\"><div class=\"sk-label sk-toggleable\"><input class=\"sk-toggleable__control sk-hidden--visually\" id=\"sk-estimator-id-2\" type=\"checkbox\" ><label for=\"sk-estimator-id-2\" class=\"sk-toggleable__label sk-toggleable__label-arrow\">preprocessing: ColumnTransformer</label><div class=\"sk-toggleable__content\"><pre>ColumnTransformer(transformers=[(&#x27;Levy&#x27;,\n                                 Pipeline(steps=[(&#x27;replacer&#x27;,\n                                                  StringReplace(key=&#x27;Levy&#x27;,\n                                                                replacer=&#x27;0&#x27;,\n                                                                target=&#x27;-&#x27;)),\n                                                 (&#x27;converter&#x27;,\n                                                  TypeConverter(key=&#x27;Levy&#x27;,\n                                                                to_type=&lt;class &#x27;int&#x27;&gt;)),\n                                                 (&#x27;std_scaler&#x27;,\n                                                  StandardScaler())]),\n                                 [&#x27;Levy&#x27;]),\n                                (&#x27;Mileage&#x27;,\n                                 Pipeline(steps=[(&#x27;replacer&#x27;,\n                                                  StringReplace(key=&#x27;Mileage&#x27;,\n                                                                replacer=&#x27;&#x27;,\n                                                                target=&#x27;km&#x27;)),\n                                                 (&#x27;converter&#x27;,\n                                                  TypeConverter(key=&#x27;M...\n                                (&#x27;rest numeric features&#x27;,\n                                 Pipeline(steps=[(&#x27;std_scaler&#x27;,\n                                                  StandardScaler())]),\n                                 [&#x27;Prod. year&#x27;, &#x27;Airbags&#x27;]),\n                                (&#x27;binary encoder&#x27;, BinaryEncoder(),\n                                 [&#x27;Wheel&#x27;, &#x27;Leather interior&#x27;]),\n                                (&#x27;ordinal encoder&#x27;, OrdinalEncoder(),\n                                 [&#x27;Manufacturer&#x27;, &#x27;Color&#x27;]),\n                                (&#x27;one hot encoder&#x27;, OneHotEncoder(),\n                                 [&#x27;Fuel type&#x27;, &#x27;Gear box type&#x27;,\n                                  &#x27;Drive wheels&#x27;]),\n                                (&#x27;target encoder&#x27;, TargetEncoder(),\n                                 [&#x27;Model&#x27;, &#x27;Category&#x27;])])</pre></div></div></div><div class=\"sk-parallel\"><div class=\"sk-parallel-item\"><div class=\"sk-item\"><div class=\"sk-label-container\"><div class=\"sk-label sk-toggleable\"><input class=\"sk-toggleable__control sk-hidden--visually\" id=\"sk-estimator-id-3\" type=\"checkbox\" ><label for=\"sk-estimator-id-3\" class=\"sk-toggleable__label sk-toggleable__label-arrow\">Levy</label><div class=\"sk-toggleable__content\"><pre>[&#x27;Levy&#x27;]</pre></div></div></div><div class=\"sk-serial\"><div class=\"sk-item\"><div class=\"sk-serial\"><div class=\"sk-item\"><div class=\"sk-estimator sk-toggleable\"><input class=\"sk-toggleable__control sk-hidden--visually\" id=\"sk-estimator-id-4\" type=\"checkbox\" ><label for=\"sk-estimator-id-4\" class=\"sk-toggleable__label sk-toggleable__label-arrow\">StringReplace</label><div class=\"sk-toggleable__content\"><pre>StringReplace(key=&#x27;Levy&#x27;, replacer=&#x27;0&#x27;, target=&#x27;-&#x27;)</pre></div></div></div><div class=\"sk-item\"><div class=\"sk-estimator sk-toggleable\"><input class=\"sk-toggleable__control sk-hidden--visually\" id=\"sk-estimator-id-5\" type=\"checkbox\" ><label for=\"sk-estimator-id-5\" class=\"sk-toggleable__label sk-toggleable__label-arrow\">TypeConverter</label><div class=\"sk-toggleable__content\"><pre>TypeConverter(key=&#x27;Levy&#x27;, to_type=&lt;class &#x27;int&#x27;&gt;)</pre></div></div></div><div class=\"sk-item\"><div class=\"sk-estimator sk-toggleable\"><input class=\"sk-toggleable__control sk-hidden--visually\" id=\"sk-estimator-id-6\" type=\"checkbox\" ><label for=\"sk-estimator-id-6\" class=\"sk-toggleable__label sk-toggleable__label-arrow\">StandardScaler</label><div class=\"sk-toggleable__content\"><pre>StandardScaler()</pre></div></div></div></div></div></div></div></div><div class=\"sk-parallel-item\"><div class=\"sk-item\"><div class=\"sk-label-container\"><div class=\"sk-label sk-toggleable\"><input class=\"sk-toggleable__control sk-hidden--visually\" id=\"sk-estimator-id-7\" type=\"checkbox\" ><label for=\"sk-estimator-id-7\" class=\"sk-toggleable__label sk-toggleable__label-arrow\">Mileage</label><div class=\"sk-toggleable__content\"><pre>[&#x27;Mileage&#x27;]</pre></div></div></div><div class=\"sk-serial\"><div class=\"sk-item\"><div class=\"sk-serial\"><div class=\"sk-item\"><div class=\"sk-estimator sk-toggleable\"><input class=\"sk-toggleable__control sk-hidden--visually\" id=\"sk-estimator-id-8\" type=\"checkbox\" ><label for=\"sk-estimator-id-8\" class=\"sk-toggleable__label sk-toggleable__label-arrow\">StringReplace</label><div class=\"sk-toggleable__content\"><pre>StringReplace(key=&#x27;Mileage&#x27;, replacer=&#x27;&#x27;, target=&#x27;km&#x27;)</pre></div></div></div><div class=\"sk-item\"><div class=\"sk-estimator sk-toggleable\"><input class=\"sk-toggleable__control sk-hidden--visually\" id=\"sk-estimator-id-9\" type=\"checkbox\" ><label for=\"sk-estimator-id-9\" class=\"sk-toggleable__label sk-toggleable__label-arrow\">TypeConverter</label><div class=\"sk-toggleable__content\"><pre>TypeConverter(key=&#x27;Mileage&#x27;, to_type=&lt;class &#x27;int&#x27;&gt;)</pre></div></div></div><div class=\"sk-item\"><div class=\"sk-estimator sk-toggleable\"><input class=\"sk-toggleable__control sk-hidden--visually\" id=\"sk-estimator-id-10\" type=\"checkbox\" ><label for=\"sk-estimator-id-10\" class=\"sk-toggleable__label sk-toggleable__label-arrow\">StandardScaler</label><div class=\"sk-toggleable__content\"><pre>StandardScaler()</pre></div></div></div></div></div></div></div></div><div class=\"sk-parallel-item\"><div class=\"sk-item\"><div class=\"sk-label-container\"><div class=\"sk-label sk-toggleable\"><input class=\"sk-toggleable__control sk-hidden--visually\" id=\"sk-estimator-id-11\" type=\"checkbox\" ><label for=\"sk-estimator-id-11\" class=\"sk-toggleable__label sk-toggleable__label-arrow\">Doors</label><div class=\"sk-toggleable__content\"><pre>[&#x27;Doors&#x27;]</pre></div></div></div><div class=\"sk-serial\"><div class=\"sk-item\"><div class=\"sk-serial\"><div class=\"sk-item\"><div class=\"sk-estimator sk-toggleable\"><input class=\"sk-toggleable__control sk-hidden--visually\" id=\"sk-estimator-id-12\" type=\"checkbox\" ><label for=\"sk-estimator-id-12\" class=\"sk-toggleable__label sk-toggleable__label-arrow\">StringReplace</label><div class=\"sk-toggleable__content\"><pre>StringReplace(key=&#x27;Doors&#x27;, replacer=&#x27;4-5&#x27;, target=&#x27;04-May&#x27;)</pre></div></div></div><div class=\"sk-item\"><div class=\"sk-estimator sk-toggleable\"><input class=\"sk-toggleable__control sk-hidden--visually\" id=\"sk-estimator-id-13\" type=\"checkbox\" ><label for=\"sk-estimator-id-13\" class=\"sk-toggleable__label sk-toggleable__label-arrow\">StringReplace</label><div class=\"sk-toggleable__content\"><pre>StringReplace(key=&#x27;Doors&#x27;, replacer=&#x27;2-3&#x27;, target=&#x27;02-Mar&#x27;)</pre></div></div></div><div class=\"sk-item\"><div class=\"sk-estimator sk-toggleable\"><input class=\"sk-toggleable__control sk-hidden--visually\" id=\"sk-estimator-id-14\" type=\"checkbox\" ><label for=\"sk-estimator-id-14\" class=\"sk-toggleable__label sk-toggleable__label-arrow\">OneHotEncoder</label><div class=\"sk-toggleable__content\"><pre>OneHotEncoder()</pre></div></div></div></div></div></div></div></div><div class=\"sk-parallel-item\"><div class=\"sk-item\"><div class=\"sk-label-container\"><div class=\"sk-label sk-toggleable\"><input class=\"sk-toggleable__control sk-hidden--visually\" id=\"sk-estimator-id-15\" type=\"checkbox\" ><label for=\"sk-estimator-id-15\" class=\"sk-toggleable__label sk-toggleable__label-arrow\">Engine volume</label><div class=\"sk-toggleable__content\"><pre>[&#x27;Engine volume&#x27;]</pre></div></div></div><div class=\"sk-serial\"><div class=\"sk-item\"><div class=\"sk-serial\"><div class=\"sk-item\"><div class=\"sk-estimator sk-toggleable\"><input class=\"sk-toggleable__control sk-hidden--visually\" id=\"sk-estimator-id-16\" type=\"checkbox\" ><label for=\"sk-estimator-id-16\" class=\"sk-toggleable__label sk-toggleable__label-arrow\">GenderateTurboFeature</label><div class=\"sk-toggleable__content\"><pre>GenderateTurboFeature()</pre></div></div></div><div class=\"sk-item\"><div class=\"sk-estimator sk-toggleable\"><input class=\"sk-toggleable__control sk-hidden--visually\" id=\"sk-estimator-id-17\" type=\"checkbox\" ><label for=\"sk-estimator-id-17\" class=\"sk-toggleable__label sk-toggleable__label-arrow\">StringReplace</label><div class=\"sk-toggleable__content\"><pre>StringReplace(key=&#x27;Engine volume&#x27;, replacer=&#x27;&#x27;, target=&quot;([a-z,&#x27; &#x27;,A-Z])&quot;)</pre></div></div></div><div class=\"sk-item\"><div class=\"sk-estimator sk-toggleable\"><input class=\"sk-toggleable__control sk-hidden--visually\" id=\"sk-estimator-id-18\" type=\"checkbox\" ><label for=\"sk-estimator-id-18\" class=\"sk-toggleable__label sk-toggleable__label-arrow\">TypeConverter</label><div class=\"sk-toggleable__content\"><pre>TypeConverter(key=&#x27;Engine volume&#x27;, to_type=&lt;class &#x27;float&#x27;&gt;)</pre></div></div></div><div class=\"sk-item\"><div class=\"sk-estimator sk-toggleable\"><input class=\"sk-toggleable__control sk-hidden--visually\" id=\"sk-estimator-id-19\" type=\"checkbox\" ><label for=\"sk-estimator-id-19\" class=\"sk-toggleable__label sk-toggleable__label-arrow\">StandardScaler</label><div class=\"sk-toggleable__content\"><pre>StandardScaler()</pre></div></div></div></div></div></div></div></div><div class=\"sk-parallel-item\"><div class=\"sk-item\"><div class=\"sk-label-container\"><div class=\"sk-label sk-toggleable\"><input class=\"sk-toggleable__control sk-hidden--visually\" id=\"sk-estimator-id-20\" type=\"checkbox\" ><label for=\"sk-estimator-id-20\" class=\"sk-toggleable__label sk-toggleable__label-arrow\">rest numeric features</label><div class=\"sk-toggleable__content\"><pre>[&#x27;Prod. year&#x27;, &#x27;Airbags&#x27;]</pre></div></div></div><div class=\"sk-serial\"><div class=\"sk-item\"><div class=\"sk-serial\"><div class=\"sk-item\"><div class=\"sk-estimator sk-toggleable\"><input class=\"sk-toggleable__control sk-hidden--visually\" id=\"sk-estimator-id-21\" type=\"checkbox\" ><label for=\"sk-estimator-id-21\" class=\"sk-toggleable__label sk-toggleable__label-arrow\">StandardScaler</label><div class=\"sk-toggleable__content\"><pre>StandardScaler()</pre></div></div></div></div></div></div></div></div><div class=\"sk-parallel-item\"><div class=\"sk-item\"><div class=\"sk-label-container\"><div class=\"sk-label sk-toggleable\"><input class=\"sk-toggleable__control sk-hidden--visually\" id=\"sk-estimator-id-22\" type=\"checkbox\" ><label for=\"sk-estimator-id-22\" class=\"sk-toggleable__label sk-toggleable__label-arrow\">binary encoder</label><div class=\"sk-toggleable__content\"><pre>[&#x27;Wheel&#x27;, &#x27;Leather interior&#x27;]</pre></div></div></div><div class=\"sk-serial\"><div class=\"sk-item\"><div class=\"sk-estimator sk-toggleable\"><input class=\"sk-toggleable__control sk-hidden--visually\" id=\"sk-estimator-id-23\" type=\"checkbox\" ><label for=\"sk-estimator-id-23\" class=\"sk-toggleable__label sk-toggleable__label-arrow\">BinaryEncoder</label><div class=\"sk-toggleable__content\"><pre>BinaryEncoder()</pre></div></div></div></div></div></div><div class=\"sk-parallel-item\"><div class=\"sk-item\"><div class=\"sk-label-container\"><div class=\"sk-label sk-toggleable\"><input class=\"sk-toggleable__control sk-hidden--visually\" id=\"sk-estimator-id-24\" type=\"checkbox\" ><label for=\"sk-estimator-id-24\" class=\"sk-toggleable__label sk-toggleable__label-arrow\">ordinal encoder</label><div class=\"sk-toggleable__content\"><pre>[&#x27;Manufacturer&#x27;, &#x27;Color&#x27;]</pre></div></div></div><div class=\"sk-serial\"><div class=\"sk-item\"><div class=\"sk-estimator sk-toggleable\"><input class=\"sk-toggleable__control sk-hidden--visually\" id=\"sk-estimator-id-25\" type=\"checkbox\" ><label for=\"sk-estimator-id-25\" class=\"sk-toggleable__label sk-toggleable__label-arrow\">OrdinalEncoder</label><div class=\"sk-toggleable__content\"><pre>OrdinalEncoder()</pre></div></div></div></div></div></div><div class=\"sk-parallel-item\"><div class=\"sk-item\"><div class=\"sk-label-container\"><div class=\"sk-label sk-toggleable\"><input class=\"sk-toggleable__control sk-hidden--visually\" id=\"sk-estimator-id-26\" type=\"checkbox\" ><label for=\"sk-estimator-id-26\" class=\"sk-toggleable__label sk-toggleable__label-arrow\">one hot encoder</label><div class=\"sk-toggleable__content\"><pre>[&#x27;Fuel type&#x27;, &#x27;Gear box type&#x27;, &#x27;Drive wheels&#x27;]</pre></div></div></div><div class=\"sk-serial\"><div class=\"sk-item\"><div class=\"sk-estimator sk-toggleable\"><input class=\"sk-toggleable__control sk-hidden--visually\" id=\"sk-estimator-id-27\" type=\"checkbox\" ><label for=\"sk-estimator-id-27\" class=\"sk-toggleable__label sk-toggleable__label-arrow\">OneHotEncoder</label><div class=\"sk-toggleable__content\"><pre>OneHotEncoder()</pre></div></div></div></div></div></div><div class=\"sk-parallel-item\"><div class=\"sk-item\"><div class=\"sk-label-container\"><div class=\"sk-label sk-toggleable\"><input class=\"sk-toggleable__control sk-hidden--visually\" id=\"sk-estimator-id-28\" type=\"checkbox\" ><label for=\"sk-estimator-id-28\" class=\"sk-toggleable__label sk-toggleable__label-arrow\">target encoder</label><div class=\"sk-toggleable__content\"><pre>[&#x27;Model&#x27;, &#x27;Category&#x27;]</pre></div></div></div><div class=\"sk-serial\"><div class=\"sk-item\"><div class=\"sk-estimator sk-toggleable\"><input class=\"sk-toggleable__control sk-hidden--visually\" id=\"sk-estimator-id-29\" type=\"checkbox\" ><label for=\"sk-estimator-id-29\" class=\"sk-toggleable__label sk-toggleable__label-arrow\">TargetEncoder</label><div class=\"sk-toggleable__content\"><pre>TargetEncoder()</pre></div></div></div></div></div></div></div></div><div class=\"sk-item\"><div class=\"sk-estimator sk-toggleable\"><input class=\"sk-toggleable__control sk-hidden--visually\" id=\"sk-estimator-id-30\" type=\"checkbox\" ><label for=\"sk-estimator-id-30\" class=\"sk-toggleable__label sk-toggleable__label-arrow\">XGBRegressor</label><div class=\"sk-toggleable__content\"><pre>XGBRegressor(base_score=0.5, booster=&#x27;gbtree&#x27;, callbacks=None,\n             colsample_bylevel=1, colsample_bynode=1, colsample_bytree=1,\n             early_stopping_rounds=None, enable_categorical=False,\n             eval_metric=None, gamma=0, gpu_id=-1, grow_policy=&#x27;depthwise&#x27;,\n             importance_type=None, interaction_constraints=&#x27;&#x27;,\n             learning_rate=0.1, max_bin=256, max_cat_to_onehot=4,\n             max_delta_step=0, max_depth=6, max_leaves=0, min_child_weight=1,\n             missing=nan, monotone_constraints=&#x27;()&#x27;, n_estimators=500, n_jobs=0,\n             num_parallel_tree=1, predictor=&#x27;auto&#x27;, random_state=10,\n             reg_alpha=0, reg_lambda=1, ...)</pre></div></div></div></div></div></div></div>"
     },
     "execution_count": 9,
     "metadata": {},
     "output_type": "execute_result"
    }
   ],
   "source": [
    "pipeline.fit(X_train, y_train)"
   ]
  },
  {
   "cell_type": "code",
   "execution_count": 10,
   "metadata": {
    "pycharm": {
     "name": "#%%\n"
    }
   },
   "outputs": [
    {
     "name": "stderr",
     "output_type": "stream",
     "text": [
      "C:\\Users\\artem\\AppData\\Local\\Temp\\ipykernel_6944\\3084886401.py:23: FutureWarning: The default value of regex will change from True to False in a future version.\n",
      "  X[self.key] = X[self.key].str.replace(self.target, self.replacer)\n",
      "C:\\Users\\artem\\AppData\\Local\\Temp\\ipykernel_6944\\3084886401.py:23: FutureWarning: The default value of regex will change from True to False in a future version.\n",
      "  X[self.key] = X[self.key].str.replace(self.target, self.replacer)\n"
     ]
    }
   ],
   "source": [
    "y_pred_train = pipeline.predict(X_train)\n",
    "y_pred = pipeline.predict(X_test)"
   ]
  },
  {
   "cell_type": "code",
   "execution_count": 11,
   "metadata": {
    "pycharm": {
     "name": "#%%\n"
    }
   },
   "outputs": [
    {
     "name": "stdout",
     "output_type": "stream",
     "text": [
      "Train R-square:  0.9456300759507689\n",
      "Test R-square:  0.795480298278294\n"
     ]
    }
   ],
   "source": [
    "score_train = calc_score(y_train , y_pred_train)\n",
    "score = calc_score(y_test , y_pred)\n",
    "print(\"Train R-square: \", score_train)\n",
    "print(\"Test R-square: \", score)"
   ]
  },
  {
   "cell_type": "code",
   "execution_count": 12,
   "outputs": [],
   "source": [
    "with open(\"pipeline.dill\", \"wb\") as pipeline_file:\n",
    "    dill.dump(pipeline, pipeline_file)"
   ],
   "metadata": {
    "collapsed": false,
    "pycharm": {
     "name": "#%%\n"
    }
   }
  }
 ],
 "metadata": {
  "kernelspec": {
   "display_name": "Python 3.8.8 ('mlbusiness')",
   "language": "python",
   "name": "python3"
  },
  "language_info": {
   "codemirror_mode": {
    "name": "ipython",
    "version": 3
   },
   "file_extension": ".py",
   "mimetype": "text/x-python",
   "name": "python",
   "nbconvert_exporter": "python",
   "pygments_lexer": "ipython3",
   "version": "3.8.8"
  },
  "orig_nbformat": 4,
  "vscode": {
   "interpreter": {
    "hash": "035a798411f23c2d1a1a55517ccfb3d759c1342074edaf0be680d67d6a8f53c2"
   }
  }
 },
 "nbformat": 4,
 "nbformat_minor": 2
}